{
 "cells": [
  {
   "cell_type": "code",
   "execution_count": 2,
   "id": "bdc66a6f-d34d-4e1c-acab-3647e771e987",
   "metadata": {},
   "outputs": [],
   "source": [
    "import pandas as pd "
   ]
  },
  {
   "cell_type": "code",
   "execution_count": 26,
   "id": "d0a2a1eb-8a84-4e9b-a550-330bd52e18a6",
   "metadata": {},
   "outputs": [],
   "source": [
    "files_path_dic = {\"yelp\": \"data/yelp_labelled.txt\", \"amazon\":\"data/amazon_cells_labelled.txt\", \"imdb\": \"data/imdb_labelled.txt\"}\n"
   ]
  },
  {
   "cell_type": "code",
   "execution_count": 27,
   "id": "7199f4f4-4174-434b-89b8-f106c09ee047",
   "metadata": {},
   "outputs": [
    {
     "name": "stdout",
     "output_type": "stream",
     "text": [
      "sentence    A very, very, very slow-moving, aimless movie ...\n",
      "label                                                       0\n",
      "source                                                   imdb\n",
      "Name: 0, dtype: object\n"
     ]
    }
   ],
   "source": [
    "df_list = []\n",
    "for source, file_path in files_path_dic.items():\n",
    "    df = pd.read_csv(file_path, names = [\"sentence\", \"label\"],sep = \"\\t\")\n",
    "    df[\"source\"] = source\n",
    "df_list.append(df)\n",
    "df = pd.concat(df_list)\n",
    "print(df.iloc[0])"
   ]
  },
  {
   "cell_type": "code",
   "execution_count": 24,
   "id": "fde0b1eb-4b9c-4c5b-afd2-a5b0e9c049f2",
   "metadata": {},
   "outputs": [
    {
     "data": {
      "text/html": [
       "<div>\n",
       "<style scoped>\n",
       "    .dataframe tbody tr th:only-of-type {\n",
       "        vertical-align: middle;\n",
       "    }\n",
       "\n",
       "    .dataframe tbody tr th {\n",
       "        vertical-align: top;\n",
       "    }\n",
       "\n",
       "    .dataframe thead th {\n",
       "        text-align: right;\n",
       "    }\n",
       "</style>\n",
       "<table border=\"1\" class=\"dataframe\">\n",
       "  <thead>\n",
       "    <tr style=\"text-align: right;\">\n",
       "      <th></th>\n",
       "      <th>A very, very, very slow-moving, aimless movie about a distressed, drifting young man.</th>\n",
       "      <th>0</th>\n",
       "    </tr>\n",
       "  </thead>\n",
       "  <tbody>\n",
       "    <tr>\n",
       "      <th>0</th>\n",
       "      <td>Not sure who was more lost - the flat characte...</td>\n",
       "      <td>0</td>\n",
       "    </tr>\n",
       "    <tr>\n",
       "      <th>1</th>\n",
       "      <td>Attempting artiness with black &amp; white and cle...</td>\n",
       "      <td>0</td>\n",
       "    </tr>\n",
       "    <tr>\n",
       "      <th>2</th>\n",
       "      <td>Very little music or anything to speak of.</td>\n",
       "      <td>0</td>\n",
       "    </tr>\n",
       "    <tr>\n",
       "      <th>3</th>\n",
       "      <td>The best scene in the movie was when Gerardo i...</td>\n",
       "      <td>1</td>\n",
       "    </tr>\n",
       "    <tr>\n",
       "      <th>4</th>\n",
       "      <td>The rest of the movie lacks art, charm, meanin...</td>\n",
       "      <td>0</td>\n",
       "    </tr>\n",
       "    <tr>\n",
       "      <th>...</th>\n",
       "      <td>...</td>\n",
       "      <td>...</td>\n",
       "    </tr>\n",
       "    <tr>\n",
       "      <th>742</th>\n",
       "      <td>I just got bored watching Jessice Lange take h...</td>\n",
       "      <td>0</td>\n",
       "    </tr>\n",
       "    <tr>\n",
       "      <th>743</th>\n",
       "      <td>Unfortunately, any virtue in this film's produ...</td>\n",
       "      <td>0</td>\n",
       "    </tr>\n",
       "    <tr>\n",
       "      <th>744</th>\n",
       "      <td>In a word, it is embarrassing.</td>\n",
       "      <td>0</td>\n",
       "    </tr>\n",
       "    <tr>\n",
       "      <th>745</th>\n",
       "      <td>Exceptionally bad!</td>\n",
       "      <td>0</td>\n",
       "    </tr>\n",
       "    <tr>\n",
       "      <th>746</th>\n",
       "      <td>All in all its an insult to one's intelligence...</td>\n",
       "      <td>0</td>\n",
       "    </tr>\n",
       "  </tbody>\n",
       "</table>\n",
       "<p>747 rows × 2 columns</p>\n",
       "</div>"
      ],
      "text/plain": [
       "    A very, very, very slow-moving, aimless movie about a distressed, drifting young man.    \\\n",
       "0    Not sure who was more lost - the flat characte...                                        \n",
       "1    Attempting artiness with black & white and cle...                                        \n",
       "2         Very little music or anything to speak of.                                          \n",
       "3    The best scene in the movie was when Gerardo i...                                        \n",
       "4    The rest of the movie lacks art, charm, meanin...                                        \n",
       "..                                                 ...                                        \n",
       "742  I just got bored watching Jessice Lange take h...                                        \n",
       "743  Unfortunately, any virtue in this film's produ...                                        \n",
       "744                   In a word, it is embarrassing.                                          \n",
       "745                               Exceptionally bad!                                          \n",
       "746  All in all its an insult to one's intelligence...                                        \n",
       "\n",
       "     0  \n",
       "0    0  \n",
       "1    0  \n",
       "2    0  \n",
       "3    1  \n",
       "4    0  \n",
       "..  ..  \n",
       "742  0  \n",
       "743  0  \n",
       "744  0  \n",
       "745  0  \n",
       "746  0  \n",
       "\n",
       "[747 rows x 2 columns]"
      ]
     },
     "execution_count": 24,
     "metadata": {},
     "output_type": "execute_result"
    }
   ],
   "source": []
  },
  {
   "cell_type": "code",
   "execution_count": null,
   "id": "7485a25c-7851-4c30-b759-ed804b7efc31",
   "metadata": {},
   "outputs": [],
   "source": []
  }
 ],
 "metadata": {
  "kernelspec": {
   "display_name": "Python 3",
   "language": "python",
   "name": "python3"
  },
  "language_info": {
   "codemirror_mode": {
    "name": "ipython",
    "version": 3
   },
   "file_extension": ".py",
   "mimetype": "text/x-python",
   "name": "python",
   "nbconvert_exporter": "python",
   "pygments_lexer": "ipython3",
   "version": "3.8.5"
  }
 },
 "nbformat": 4,
 "nbformat_minor": 5
}
