{
 "cells": [
  {
   "cell_type": "code",
   "execution_count": 1,
   "id": "bdc66a6f-d34d-4e1c-acab-3647e771e987",
   "metadata": {},
   "outputs": [],
   "source": [
    "import pandas as pd \n",
    "from sklearn.feature_extraction.text import CountVectorizer\n",
    "from sklearn.model_selection import train_test_split\n",
    "from sklearn.linear_model import LogisticRegression"
   ]
  },
  {
   "cell_type": "code",
   "execution_count": 2,
   "id": "d0a2a1eb-8a84-4e9b-a550-330bd52e18a6",
   "metadata": {},
   "outputs": [],
   "source": [
    "files_path_dic = {\"yelp\": \"data/yelp_labelled.txt\", \"amazon\":\"data/amazon_cells_labelled.txt\", \"imdb\": \"data/imdb_labelled.txt\"}\n"
   ]
  },
  {
   "cell_type": "code",
   "execution_count": 3,
   "id": "7199f4f4-4174-434b-89b8-f106c09ee047",
   "metadata": {},
   "outputs": [
    {
     "data": {
      "text/plain": [
       "3"
      ]
     },
     "execution_count": 3,
     "metadata": {},
     "output_type": "execute_result"
    }
   ],
   "source": [
    "df_list = []\n",
    "for source, file_path in files_path_dic.items():\n",
    "    df = pd.read_csv(file_path, names = [\"sentence\", \"label\"],sep = \"\\t\")\n",
    "    df[\"source\"] = source\n",
    "    df_list.append(df)\n",
    "df = pd.concat(df_list)\n",
    "len(df_list)\n"
   ]
  },
  {
   "cell_type": "code",
   "execution_count": 4,
   "id": "fde0b1eb-4b9c-4c5b-afd2-a5b0e9c049f2",
   "metadata": {},
   "outputs": [],
   "source": [
    "\n",
    "sentences = ['John likes ice cream', 'John hates chocolate.']"
   ]
  },
  {
   "cell_type": "code",
   "execution_count": 5,
   "id": "7485a25c-7851-4c30-b759-ed804b7efc31",
   "metadata": {},
   "outputs": [
    {
     "data": {
      "text/plain": [
       "{'John': 0, 'likes': 5, 'ice': 4, 'cream': 2, 'hates': 3, 'chocolate': 1}"
      ]
     },
     "execution_count": 5,
     "metadata": {},
     "output_type": "execute_result"
    }
   ],
   "source": [
    "\n",
    "vectorizer = CountVectorizer(min_df=0, lowercase=False)\n",
    "vectorizer.fit(sentences)\n",
    "vectorizer.vocabulary_"
   ]
  },
  {
   "cell_type": "code",
   "execution_count": 6,
   "id": "38e16ddd-8a80-4dbb-9589-5751a339aba2",
   "metadata": {},
   "outputs": [
    {
     "data": {
      "text/plain": [
       "array([[1, 0, 1, 0, 1, 1],\n",
       "       [1, 1, 0, 1, 0, 0]])"
      ]
     },
     "execution_count": 6,
     "metadata": {},
     "output_type": "execute_result"
    }
   ],
   "source": [
    "vectorizer.transform(sentences).toarray()\n"
   ]
  },
  {
   "cell_type": "code",
   "execution_count": 7,
   "id": "1c140d03-cca8-4826-b6cc-b68b570b305a",
   "metadata": {},
   "outputs": [
    {
     "name": "stdout",
     "output_type": "stream",
     "text": [
      "Accuracy for yelp data: 0.7960\n",
      "Accuracy for amazon data: 0.7960\n",
      "Accuracy for imdb data: 0.7487\n"
     ]
    }
   ],
   "source": [
    "for source in df['source'].unique():\n",
    "    df_source = df[df['source'] == source]\n",
    "    sentences = df_source['sentence'].values\n",
    "    y = df_source['label'].values\n",
    "\n",
    "    sentences_train, sentences_test, y_train, y_test = train_test_split(\n",
    "        sentences, y, test_size=0.25, random_state=1000)\n",
    "\n",
    "    vectorizer = CountVectorizer()\n",
    "    vectorizer.fit(sentences_train)\n",
    "    X_train = vectorizer.transform(sentences_train)\n",
    "    X_test  = vectorizer.transform(sentences_test)\n",
    "\n",
    "    classifier = LogisticRegression()\n",
    "    classifier.fit(X_train, y_train)\n",
    "    score = classifier.score(X_test, y_test)\n",
    "    print('Accuracy for {} data: {:.4f}'.format(source, score))\n"
   ]
  },
  {
   "cell_type": "code",
   "execution_count": null,
   "id": "7c246439-6d2c-43a8-bf00-05b22dc733b4",
   "metadata": {},
   "outputs": [],
   "source": [
    "\n",
    "\n"
   ]
  },
  {
   "cell_type": "code",
   "execution_count": null,
   "id": "7c98ebfe-13b7-4df2-ac90-d039d9b4cf92",
   "metadata": {},
   "outputs": [],
   "source": []
  }
 ],
 "metadata": {
  "kernelspec": {
   "display_name": "Python 3",
   "language": "python",
   "name": "python3"
  },
  "language_info": {
   "codemirror_mode": {
    "name": "ipython",
    "version": 3
   },
   "file_extension": ".py",
   "mimetype": "text/x-python",
   "name": "python",
   "nbconvert_exporter": "python",
   "pygments_lexer": "ipython3",
   "version": "3.8.5"
  }
 },
 "nbformat": 4,
 "nbformat_minor": 5
}
